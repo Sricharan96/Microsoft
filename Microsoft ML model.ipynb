{
 "cells": [
  {
   "cell_type": "code",
   "execution_count": null,
   "id": "f3b60f92",
   "metadata": {},
   "outputs": [],
   "source": [
    "import pandas as pd\n",
    "from sklearn.model_selection import train_test_split\n",
    "import warnings\n",
    "warnings.filterwarnings('ignore')\n",
    "from sklearn.preprocessing import StandardScaler\n",
    "from sklearn.linear_model import LogisticRegression\n",
    "from sklearn.tree import DecisionTreeClassifier\n",
    "from sklearn.metrics import confusion_matrix,precision_score,recall_score,f1_score,roc_curve,roc_auc_score\n",
    "import matplotlib.pyplot as plt\n",
    "import numpy as np"
   ]
  },
  {
   "cell_type": "code",
   "execution_count": null,
   "id": "98dfde73",
   "metadata": {},
   "outputs": [],
   "source": [
    "ms_df=pd.read_csv('Microsoft_Data.csv')\n",
    "y=ms_df['HasDetections']\n",
    "\n",
    "ms_df.drop(columns=['HasDetections','MachineIdentifier'],inplace=True)\n",
    "\n",
    "mainfo_df=pd.DataFrame({'col_name':ms_df.columns,'na_cnt':ms_df.isnull().sum(),'pc_cnt':(ms_df.isnull().sum()/ms_df.shape[0])*100})\n",
    "\n",
    "\n",
    "col_gt50_ls=list(mainfo_df[mainfo_df['pc_cnt']>50]['col_name'])\n",
    "\n",
    "ms_df.drop(columns=col_gt50_ls,inplace=True)\n",
    "\n",
    "x_train,x_test,y_train,y_test=train_test_split(ms_df,y,random_state=99,test_size=0.2)\n",
    "\n",
    "con_cols=[col for col in ms_df.columns if ms_df[col].dtype=='int64' or ms_df[col].dtype=='float64']\n",
    "cat_cols=[col for col in ms_df.columns if ms_df[col].dtype=='object']"
   ]
  },
  {
   "cell_type": "code",
   "execution_count": null,
   "id": "39ff749f",
   "metadata": {},
   "outputs": [],
   "source": [
    "for col in con_cols:\n",
    "    x_train[col].fillna(x_train[col].mean(),inplace=True)\n",
    "    x_test[col].fillna(x_train[col].mean(),inplace=True)\n",
    "    \n",
    "for col in cat_cols:\n",
    "    x_train[col].fillna(x_train[col].mode()[0],inplace=True)\n",
    "    x_test[col].fillna(x_train[col].mode()[0],inplace=True)"
   ]
  },
  {
   "cell_type": "code",
   "execution_count": null,
   "id": "8d297979",
   "metadata": {},
   "outputs": [],
   "source": [
    "scaler=StandardScaler()\n",
    "\n",
    "for col in con_cols:\n",
    "    x_train[col]=scaler.fit_transform(np.array(x_train[col]).reshape(-1,1))\n",
    "    x_test[col]=scaler.transform(np.array(x_test[col]).reshape(-1,1))"
   ]
  },
  {
   "cell_type": "code",
   "execution_count": null,
   "id": "fd585f36",
   "metadata": {},
   "outputs": [],
   "source": [
    "cat_encd_train=pd.get_dummies(x_train[cat_cols])\n",
    "cat_encd_test=pd.get_dummies(x_test[cat_cols])"
   ]
  },
  {
   "cell_type": "code",
   "execution_count": null,
   "id": "ef0850a5",
   "metadata": {},
   "outputs": [],
   "source": [
    "cat_encd_train_final,cat_encd_test_final=cat_encd_train.align(cat_encd_test,join='inner',axis=1)\n",
    "cat_encd_test_final###aligning train & test data one hot encoded catg columns due to unqual no of columns i.e no of cilumns would differ for that we align to get same"
   ]
  },
  {
   "cell_type": "code",
   "execution_count": null,
   "id": "0b2598fd",
   "metadata": {},
   "outputs": [],
   "source": [
    "x_train_final=pd.concat([x_train[con_cols],cat_encd_train_final],axis=1)"
   ]
  },
  {
   "cell_type": "code",
   "execution_count": null,
   "id": "8281b4a6",
   "metadata": {},
   "outputs": [],
   "source": [
    "x_test_final=pd.concat([x_test[con_cols],cat_encd_test_final],axis=1)"
   ]
  },
  {
   "cell_type": "code",
   "execution_count": null,
   "id": "8195f7a1",
   "metadata": {},
   "outputs": [],
   "source": [
    "logreg=LogisticRegression()\n",
    "logreg.fit(x_train_final,y_train)"
   ]
  },
  {
   "cell_type": "code",
   "execution_count": null,
   "id": "7f5080f1",
   "metadata": {},
   "outputs": [],
   "source": [
    "y_test_pred=logreg.predict(x_test_final)"
   ]
  },
  {
   "cell_type": "code",
   "execution_count": null,
   "id": "f73034de",
   "metadata": {},
   "outputs": [],
   "source": []
  },
  {
   "cell_type": "code",
   "execution_count": null,
   "id": "355ad2ba",
   "metadata": {},
   "outputs": [],
   "source": [
    "recall_score(y_test,y_test_pred)"
   ]
  },
  {
   "cell_type": "code",
   "execution_count": null,
   "id": "99b7a32d",
   "metadata": {},
   "outputs": [],
   "source": [
    "f1_score(y_test,y_test_pred)"
   ]
  },
  {
   "cell_type": "code",
   "execution_count": null,
   "id": "7b7b6a6d",
   "metadata": {},
   "outputs": [],
   "source": [
    "pos_probs=logreg.predict_proba(x_test_final)[::,1]\n",
    "fpr,tpr,thresold=roc_curve(y_test,pos_probs)\n",
    "plt.plot(fpr,tpr)\n",
    "plt.xlabel('False Postive Rate')\n",
    "plt.ylabel('True Postive Rate')\n",
    "plt.title('AUC Curve')\n"
   ]
  },
  {
   "cell_type": "code",
   "execution_count": null,
   "id": "5f051536",
   "metadata": {},
   "outputs": [],
   "source": [
    "roc_auc_score(y_test,pos_probs)"
   ]
  },
  {
   "cell_type": "code",
   "execution_count": null,
   "id": "b4418240",
   "metadata": {},
   "outputs": [],
   "source": [
    "dtree=DecisionTreeClassifier()## Max_depth,min_samples_split,..e.tc all these are Hyperparameters\n",
    "#can be found using Hyperparamter tuning \n",
    "dtree.fit(x_train_final,y_train)"
   ]
  },
  {
   "cell_type": "code",
   "execution_count": null,
   "id": "67f744bb",
   "metadata": {},
   "outputs": [],
   "source": [
    "dtree_test_pred=dtree.predict(x_test_final)"
   ]
  },
  {
   "cell_type": "code",
   "execution_count": null,
   "id": "886c23fd",
   "metadata": {},
   "outputs": [],
   "source": [
    "confusion_matrix(y_test,dtree_test_pred)"
   ]
  },
  {
   "cell_type": "code",
   "execution_count": null,
   "id": "1226458c",
   "metadata": {},
   "outputs": [],
   "source": [
    "precision_score(y_test,dtree_test_pred)"
   ]
  },
  {
   "cell_type": "code",
   "execution_count": null,
   "id": "f82c9265",
   "metadata": {},
   "outputs": [],
   "source": [
    "recall_score(y_test,dtree_test_pred)"
   ]
  },
  {
   "cell_type": "code",
   "execution_count": null,
   "id": "58aeab8e",
   "metadata": {},
   "outputs": [],
   "source": [
    "f1_score(y_test,dtree_test_pred)"
   ]
  },
  {
   "cell_type": "code",
   "execution_count": null,
   "id": "312fa122",
   "metadata": {},
   "outputs": [],
   "source": [
    "dtree_pos_probs=dtree.predict_proba(x_test_final)[::,1]\n",
    "dtree_pos_probs"
   ]
  },
  {
   "cell_type": "code",
   "execution_count": null,
   "id": "4ac92a06",
   "metadata": {},
   "outputs": [],
   "source": [
    "dtree_fpr,dtree_tpr,dtree_thresold=roc_curve(y_test,dtree_pos_probs)\n",
    "dtree_fpr"
   ]
  },
  {
   "cell_type": "code",
   "execution_count": null,
   "id": "ffc2d964",
   "metadata": {},
   "outputs": [],
   "source": [
    "plt.plot(dtree_fpr,dtree_tpr)"
   ]
  },
  {
   "cell_type": "code",
   "execution_count": null,
   "id": "7acd337b",
   "metadata": {},
   "outputs": [],
   "source": [
    "logreg.score(x_train_final,y_train)  #train score (r2 score/coefficient of determination)\n",
    "\n"
   ]
  },
  {
   "cell_type": "code",
   "execution_count": null,
   "id": "a9063517",
   "metadata": {},
   "outputs": [],
   "source": [
    "logreg.score(x_test_final,y_test)      #test score (r2 score/coefficient of determination)"
   ]
  },
  {
   "cell_type": "code",
   "execution_count": null,
   "id": "ef25cd30",
   "metadata": {},
   "outputs": [],
   "source": [
    "from sklearn.linear_model import Lasso\n",
    "ls_reg=Lasso()\n",
    "ls_reg=Lasso(alpha=1)\n",
    "ls_reg.fit(x_train_final,y_train)\n",
    "ls_reg.coef_\n",
    "ls_reg.coef_==0\n",
    "len(ls_reg.coef_==0)\n",
    "ls_reg.coef_[ls_reg.coef_==0]\n",
    "len(ls_reg.coef_[ls_reg.coef_==0])\n",
    "ls_reg.score(x_train_final,y_train)\n",
    "ls_reg.score(x_test_final,y_test)"
   ]
  },
  {
   "cell_type": "code",
   "execution_count": null,
   "id": "c90dc661",
   "metadata": {},
   "outputs": [],
   "source": [
    "from sklearn.linear_model import Ridge\n",
    "lr_rid=Ridge()\n",
    "lr_rid=Ridge(alpha=2)\n",
    "\n",
    "lr_rid.fit(x_train_final,y_train)\n",
    "lr_rid.coef_\n",
    "len(lr_rid.coef_)\n",
    "lr_rid.coef_==0\n",
    "len(lr_rid.coef_==0)\n",
    "lr_rid.coef_[lr_rid.coef_==0]\n",
    "len(lr_rid.coef_[lr_rid.coef_==0])\n",
    "lr_rid.score(x_train_final,y_train)\n",
    "lr_rid.score(x_test_final,y_test)"
   ]
  },
  {
   "cell_type": "code",
   "execution_count": null,
   "id": "51bd5d7d",
   "metadata": {},
   "outputs": [],
   "source": [
    "from sklearn.linear_model import SGDRegressor\n",
    "sgdrg=SGDRegressor(verbose=1,penalty='l1')\n",
    "sgdrg.fit(x_train_final,y_train)\n",
    "sgdrg.pred=sgdrg.predict(x_test_final)"
   ]
  },
  {
   "cell_type": "code",
   "execution_count": null,
   "id": "75cee0bd",
   "metadata": {},
   "outputs": [],
   "source": [
    "from sklearn.ensemble import AdaBoostClassifier\n",
    "ada=AdaBoostClassifier()\n",
    "ada.fit(x_train_final,y_train)\n",
    "ada.predict(x_train_final)\n",
    "ada.predict(x_test_final)\n",
    "ada.predict_log_proba(x_test_final)\n",
    "ada.predict_proba(x_test_final)\n"
   ]
  },
  {
   "cell_type": "code",
   "execution_count": null,
   "id": "8e82da7e",
   "metadata": {},
   "outputs": [],
   "source": [
    "ada.score(x_train_final,y_train)\n",
    "ada.score(x_test_final,y_test)"
   ]
  },
  {
   "cell_type": "code",
   "execution_count": null,
   "id": "a969214e",
   "metadata": {},
   "outputs": [],
   "source": [
    "from sklearn.tree import DecisionTreeClassifier\n",
    "dtc= DecisionTreeClassifier()\n",
    "dtc.fit(x_train_final,y_train)\n",
    "dtc.predict(x_test_final)"
   ]
  },
  {
   "cell_type": "markdown",
   "id": "cc9b95e7",
   "metadata": {},
   "source": [
    "# Hyperparameter Tuning for DecisionTreeClassifier"
   ]
  },
  {
   "cell_type": "code",
   "execution_count": null,
   "id": "1b109af0",
   "metadata": {},
   "outputs": [],
   "source": [
    "from sklearn.model_selection import GridSearchCV\n",
    "\n",
    "dtc=DecisionTreeClassifier()\n",
    "\n",
    "hyp_dict={ \n",
    "           'max_depth':[5,6,7,8],\n",
    "           'min_samples_split':[4,5,7,8],\n",
    "           'max_leaf_nodes':[5,7,8,9],\n",
    "           'min_samples_leaf':[2,3,4,6] \n",
    "         }\n",
    "gcv=GridSearchCV(estimator=dtc,param_grid=hyp_dict,cv=5,verbose=21)\n",
    "gcv.fit(x_train_final,y_train)"
   ]
  },
  {
   "cell_type": "code",
   "execution_count": null,
   "id": "6628e591",
   "metadata": {},
   "outputs": [],
   "source": [
    "gcv.best_params_\n",
    "gcv.predict(x_test_final)\n",
    "dtc_hp_pred=gcv.predict(x_test_final)"
   ]
  },
  {
   "cell_type": "code",
   "execution_count": null,
   "id": "3091feff",
   "metadata": {},
   "outputs": [],
   "source": [
    "from sklearn.model_selection import RandomizedSearchCV\n",
    "rcv=RandomizedSearchCV(estimator=dtc,param_distributions=hyp_dict,cv=5,n_iter=120,verbose=21)\n",
    "rcv.fit(x_train_final,y_train)"
   ]
  },
  {
   "cell_type": "code",
   "execution_count": null,
   "id": "a0839bfb",
   "metadata": {},
   "outputs": [],
   "source": [
    "rcv.best_params_\n",
    "rcv.predict(x_test_final)\n",
    "dtc_hp_pred=rcv.predict(x_test_final)"
   ]
  }
 ],
 "metadata": {
  "kernelspec": {
   "display_name": "Python 3",
   "language": "python",
   "name": "python3"
  },
  "language_info": {
   "codemirror_mode": {
    "name": "ipython",
    "version": 3
   },
   "file_extension": ".py",
   "mimetype": "text/x-python",
   "name": "python",
   "nbconvert_exporter": "python",
   "pygments_lexer": "ipython3",
   "version": "3.8.8"
  }
 },
 "nbformat": 4,
 "nbformat_minor": 5
}
